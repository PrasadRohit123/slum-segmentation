{
 "cells": [
  {
   "cell_type": "code",
   "execution_count": 20,
   "metadata": {},
   "outputs": [],
   "source": [
    "from pycocotools.coco import COCO\n",
    "import numpy as np\n",
    "from PIL import Image"
   ]
  },
  {
   "cell_type": "code",
   "execution_count": 48,
   "metadata": {},
   "outputs": [
    {
     "name": "stdout",
     "output_type": "stream",
     "text": [
      "loading annotations into memory...\n",
      "Done (t=0.00s)\n",
      "creating index...\n",
      "index created!\n",
      "[{'id': 1, 'width': 1920, 'height': 1080, 'file_name': 'KE_266.jpg'}]\n"
     ]
    }
   ],
   "source": [
    "coco = COCO(\"/home/adarsh/Downloads/labels_my-project-name_2023-08-08-04-21-50.json\")\n",
    "img_id = coco.getImgIds()\n",
    "cat_id = coco.getCatIds()\n",
    "ann_ids = coco.getAnnIds(1, 1)"
   ]
  },
  {
   "cell_type": "code",
   "execution_count": 64,
   "metadata": {},
   "outputs": [],
   "source": [
    "for cur_img_id in img_id:\n",
    "    ann_ids = coco.getAnnIds(cur_img_id, catIds=1)\n",
    "    ann = np.zeros((1080, 1920))\n",
    "    for cur_ann_id in ann_ids:\n",
    "        cur_ann = coco.loadAnns(cur_ann_id)\n",
    "        cur_mask = coco.annToMask(cur_ann[0])\n",
    "        ann = np.maximum(cur_mask, ann)\n",
    "    np_mask = ann * 255\n",
    "    mask = Image.fromarray(np_mask.astype(np.uint8))\n",
    "    img = coco.loadImgs(cur_img_id)\n",
    "    mask.save(f\"{img[0][\"file_name\"]}\")"
   ]
  }
 ],
 "metadata": {
  "kernelspec": {
   "display_name": "img_segmentation",
   "language": "python",
   "name": "python3"
  },
  "language_info": {
   "codemirror_mode": {
    "name": "ipython",
    "version": 3
   },
   "file_extension": ".py",
   "mimetype": "text/x-python",
   "name": "python",
   "nbconvert_exporter": "python",
   "pygments_lexer": "ipython3",
   "version": "3.12.4"
  }
 },
 "nbformat": 4,
 "nbformat_minor": 2
}
